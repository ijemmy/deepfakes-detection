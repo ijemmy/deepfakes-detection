{
 "cells": [
  {
   "cell_type": "markdown",
   "id": "403fabc6",
   "metadata": {},
   "source": [
    "# Using CV2 facial detection"
   ]
  },
  {
   "cell_type": "code",
   "execution_count": 32,
   "id": "92eb6559",
   "metadata": {},
   "outputs": [],
   "source": [
    "import cv2\n",
    "\n",
    "def detect_faces_with_cv2(frame):\n",
    "    classifier = cv2.CascadeClassifier('haarcascade_frontalface_default.xml')\n",
    "    # The scaleFactor controls how the input image is scaled prior to detection, e.g. is it scaled up or down, \n",
    "    # which can help to better find the faces in the image. Lowering the value will detect more faces but might \n",
    "    # include some false positive\n",
    "    scale_factor = 1.05\n",
    "    \n",
    "    # How robust the detection should be. Lowering this will detect more faces with more false positive.\n",
    "    # Increasing it will require more confidence before the face is detected\n",
    "    min_neighbors = 5\n",
    "    \n",
    "    bboxes = classifier.detectMultiScale(frame)\n",
    "    for box in bboxes:\n",
    "        x, y, width, height = box\n",
    "        x2, y2 = x + width, y + height\n",
    "        cv2.rectangle(frame, (x, y), (x2, y2), (0,0,255), 1)\n",
    "\n",
    "    cv2.imshow('face detection', frame)\n",
    "    cv2.waitKey(0)\n",
    "    cv2.destroyAllWindows()\n",
    "\n",
    "\n",
    "    \n",
    "img_path = 'output_folder/DeepfakeTIMIT/higher_quality/fadg0/sa1-video-fram1/000.png'\n",
    "test1 = cv2.imread('test1.jpeg')\n",
    "detect_faces_with_cv2(test1)\n",
    "\n",
    "test2 = cv2.imread('test2.jpeg')\n",
    "detect_faces_with_cv2(test2)\n"
   ]
  },
  {
   "cell_type": "code",
   "execution_count": 31,
   "id": "deef65d5",
   "metadata": {},
   "outputs": [],
   "source": []
  },
  {
   "cell_type": "code",
   "execution_count": 3,
   "id": "8b96d15a",
   "metadata": {},
   "outputs": [
    {
     "name": "stdout",
     "output_type": "stream",
     "text": [
      "Requirement already satisfied: opencv-python in ./venv/lib/python3.8/site-packages (4.5.1.48)\n",
      "Requirement already satisfied: numpy>=1.17.3 in ./venv/lib/python3.8/site-packages (from opencv-python) (1.19.5)\n",
      "\u001b[33mWARNING: You are using pip version 20.2.1; however, version 21.1.2 is available.\n",
      "You should consider upgrading via the '/Users/chadvit/dev/playground/deepfakes-detection/venv/bin/python -m pip install --upgrade pip' command.\u001b[0m\n"
     ]
    }
   ],
   "source": [
    "# from mtcnn import MTCNN"
   ]
  },
  {
   "cell_type": "code",
   "execution_count": null,
   "id": "a4c78ca6",
   "metadata": {},
   "outputs": [],
   "source": []
  }
 ],
 "metadata": {
  "kernelspec": {
   "display_name": "Python 3",
   "language": "python",
   "name": "python3"
  },
  "language_info": {
   "codemirror_mode": {
    "name": "ipython",
    "version": 3
   },
   "file_extension": ".py",
   "mimetype": "text/x-python",
   "name": "python",
   "nbconvert_exporter": "python",
   "pygments_lexer": "ipython3",
   "version": "3.7.10"
  },
  "toc": {
   "base_numbering": 1,
   "nav_menu": {},
   "number_sections": true,
   "sideBar": true,
   "skip_h1_title": false,
   "title_cell": "Table of Contents",
   "title_sidebar": "Contents",
   "toc_cell": false,
   "toc_position": {},
   "toc_section_display": true,
   "toc_window_display": false
  }
 },
 "nbformat": 4,
 "nbformat_minor": 5
}
